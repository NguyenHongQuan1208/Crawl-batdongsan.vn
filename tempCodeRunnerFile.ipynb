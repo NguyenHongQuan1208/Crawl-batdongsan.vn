max_pages = 50

scrape_and_save(link, link, t, max_pages)